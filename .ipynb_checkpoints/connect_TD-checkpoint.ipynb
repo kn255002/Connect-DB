{
 "cells": [
  {
   "cell_type": "markdown",
   "metadata": {},
   "source": [
    "# Connecting with pyodbc and Teradata"
   ]
  },
  {
   "cell_type": "code",
   "execution_count": null,
   "metadata": {},
   "outputs": [],
   "source": [
    "conn = sqlite3.connect('')\n",
    "ready_cur=conn.cursor()\n",
    "conn.commit()"
   ]
  },
  {
   "cell_type": "code",
   "execution_count": null,
   "metadata": {},
   "outputs": [],
   "source": [
    "import pyodbc\n",
    "cnxn.setdecoding(pyodbc.SQL_CHAR, encoding='utf-8')\n",
    "cnxn.setdecoding(pyodbc.SQL_WCHAR, encoding='utf-8')\n",
    "cnxn.setdecoding(pyodbc.SQL_WMETADATA, encoding='utf-32le')\n",
    "cnxn.setencoding(encoding='utf-8')"
   ]
  }
 ],
 "metadata": {
  "kernelspec": {
   "display_name": "Python 3",
   "language": "python",
   "name": "python3"
  },
  "language_info": {
   "codemirror_mode": {
    "name": "ipython",
    "version": 3
   },
   "file_extension": ".py",
   "mimetype": "text/x-python",
   "name": "python",
   "nbconvert_exporter": "python",
   "pygments_lexer": "ipython3",
   "version": "3.8.5"
  }
 },
 "nbformat": 4,
 "nbformat_minor": 4
}
